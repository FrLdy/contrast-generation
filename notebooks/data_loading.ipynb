{
 "cells": [
  {
   "cell_type": "code",
   "execution_count": 1,
   "metadata": {},
   "outputs": [],
   "source": [
    "import torch\n",
    "import torch.nn as nn\n",
    "import torch.optim as optim\n",
    "import torch.utils.data as torch_data\n",
    "from torchsummary import summary\n",
    "from torchvision import models\n",
    "from pycocotools.coco import COCO\n",
    "import torchvision.transforms as transforms\n",
    "import json\n",
    "import skimage.io as io\n",
    "import matplotlib.pyplot as plt\n",
    "from tqdm import tqdm\n",
    "\n",
    "import sys, os\n",
    "sys.path.append(os.path.abspath(\"../\"))\n",
    "\n",
    "%load_ext autoreload\n",
    "%autoreload 2\n",
    "\n",
    "from models.gan.model import Generator, Discriminator\n",
    "from trainers.gan import GanTrainer\n",
    "from datasets.coco_dataset import CocoDataset, CocoPairsDataset\n",
    "import utils.data\n",
    "import utils.functionnal"
   ]
  },
  {
   "cell_type": "markdown",
   "metadata": {},
   "source": [
    "## Data loading"
   ]
  },
  {
   "cell_type": "code",
   "execution_count": 2,
   "metadata": {},
   "outputs": [],
   "source": [
    "data_dir_pattern = \"/Volumes/F_LEDOYEN/ms_coco/annotations/{}.json\""
   ]
  },
  {
   "cell_type": "code",
   "execution_count": 3,
   "metadata": {},
   "outputs": [],
   "source": [
    "data_files = utils.functionnal.map_nested_dicts(data_files, lambda k, v : data_dir_pattern.format(v))"
   ]
  },
  {
   "cell_type": "code",
   "execution_count": 4,
   "metadata": {},
   "outputs": [],
   "source": [
    "transform = transforms.Compose([\n",
    "    transforms.ToTensor(),\n",
    "    transforms.Resize((224, 224)),\n",
    "    transforms.Lambda(lambda x : x.repeat(3, 1, 1) if x.shape[0] == 1 else x),\n",
    "    transforms.Normalize(\n",
    "        mean=[0.485, 0.456, 0.406],\n",
    "        std=[0.229, 0.224, 0.225]\n",
    "    )\n",
    "])"
   ]
  },
  {
   "cell_type": "code",
   "execution_count": 5,
   "metadata": {},
   "outputs": [
    {
     "name": "stdout",
     "output_type": "stream",
     "text": [
      "loading annotations into memory...\n",
      "Done (t=60.37s)\n",
      "creating index...\n",
      "index created!\n"
     ]
    }
   ],
   "source": [
    "data = {\n",
    "    \"coco_anns_all\" : COCO(data_files[\"coco_anns_all\"]),\n",
    "}"
   ]
  },
  {
   "cell_type": "code",
   "execution_count": 9,
   "metadata": {},
   "outputs": [],
   "source": [
    "data.update(utils.functionnal.map_nested_dicts(\n",
    "    data_files,\n",
    "    func=(\n",
    "        lambda k,v : \n",
    "        utils.data.coco_pairs_dataset(data[\"coco_anns_all\"], v, transform) if k == \"pairs\" \n",
    "        else ( utils.data.coco_dataset(data[\"coco_anns_all\"], v, transform) if k == \"singles\" else data[k]) \n",
    "    )\n",
    "))"
   ]
  },
  {
   "cell_type": "code",
   "execution_count": 12,
   "metadata": {},
   "outputs": [],
   "source": [
    "datasets = {k:v for k,v in zip([\"train\", \"test\"], utils.data.split_dataset(data[\"sport\"][\"singles\"], .8, .2))}\n",
    "\n",
    "params = {'batch_size': 1,\n",
    "          'shuffle': False,\n",
    "          'num_workers': 0}\n",
    "max_epochs = 100\n",
    "\n",
    "dataloaders = {k: torch_data.DataLoader(v, **params) for k,v in datasets.items()}"
   ]
  }
 ],
 "metadata": {
  "kernelspec": {
   "display_name": "Python 3",
   "language": "python",
   "name": "python3"
  },
  "language_info": {
   "codemirror_mode": {
    "name": "ipython",
    "version": 3
   },
   "file_extension": ".py",
   "mimetype": "text/x-python",
   "name": "python",
   "nbconvert_exporter": "python",
   "pygments_lexer": "ipython3",
   "version": "3.8.5"
  }
 },
 "nbformat": 4,
 "nbformat_minor": 4
}
