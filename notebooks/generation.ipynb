{
 "cells": [
  {
   "cell_type": "code",
   "execution_count": 4,
   "metadata": {},
   "outputs": [
    {
     "name": "stdout",
     "output_type": "stream",
     "text": [
      "The autoreload extension is already loaded. To reload it, use:\n",
      "  %reload_ext autoreload\n"
     ]
    }
   ],
   "source": [
    "import torch\n",
    "import torch.nn as nn\n",
    "from torchsummary import summary\n",
    "from torchvision import models\n",
    "\n",
    "\n",
    "import sys, os\n",
    "sys.path.append(os.path.abspath(\"../\"))\n",
    "\n",
    "%load_ext autoreload\n",
    "%autoreload 2\n",
    "\n",
    "from models.res_u_net.model import ResUnetAutoencoder\n",
    "from models.res_u_net.std_blocks import UpBlock\n",
    "from models.res_u_net.bridge import Bridge\n"
   ]
  },
  {
   "cell_type": "code",
   "execution_count": 2,
   "metadata": {},
   "outputs": [],
   "source": [
    "resnet = models.resnet18(pretrained=True)"
   ]
  },
  {
   "cell_type": "code",
   "execution_count": 5,
   "metadata": {},
   "outputs": [],
   "source": [
    "bridge_out_channels = 1024"
   ]
  },
  {
   "cell_type": "code",
   "execution_count": 43,
   "metadata": {},
   "outputs": [],
   "source": [
    "class Net(nn.Module):\n",
    "    def __init__(self):\n",
    "        super().__init__()\n",
    "\n",
    "        self.encoder_i1, self.bridge_i1, self.decoder_i1 = self._build_enc_dec()\n",
    "        _, self.bridge_inew, self.decoder_inew = self._build_enc_dec()\n",
    "        self.encoder_i2, self.bridge_i2, self.decoder_i2 = self._build_enc_dec()\n",
    "\n",
    "        self.encoder_i1.freeze()\n",
    "        self.encoder_i2.freeze()\n",
    "\n",
    "\n",
    "    def _build_enc_dec(self):\n",
    "        auto_encoder = ResUnetAutoencoder(resnet, bridge_out_channels, UpBlock.UPSAMPLING_BILINEAR)\n",
    "        return (\n",
    "            auto_encoder.encoder, auto_encoder.bridge, auto_encoder.decoder\n",
    "        )\n",
    "    \n",
    "    def forward(self, i1, i2):\n",
    "        ls1 = self.encoder_i1(self.bridge_i1(i1))\n",
    "        ls2 = self.encoder_i2(self.bridge_i1(i2))\n",
    "\n",
    "        lsnew = ls1 - ls2\n",
    "\n",
    "        out1 = self.decoder_i1(ls1 + lsnew)\n",
    "        out2 = self.decoder_i2(ls2 + lsnew)\n",
    "\n",
    "        return out1, out2, lsnew\n",
    "\n",
    "    def compute\n",
    "        "
   ]
  },
  {
   "cell_type": "code",
   "execution_count": 45,
   "metadata": {
    "tags": []
   },
   "outputs": [],
   "source": [
    "net = Net()"
   ]
  },
  {
   "cell_type": "code",
   "execution_count": 24,
   "metadata": {},
   "outputs": [],
   "source": [
    "i1, i2 = [torch.rand(1, 3, 244, 244) for _ in range(2)]"
   ]
  }
 ],
 "metadata": {
  "kernelspec": {
   "display_name": "Python 3",
   "language": "python",
   "name": "python3"
  },
  "language_info": {
   "codemirror_mode": {
    "name": "ipython",
    "version": 3
   },
   "file_extension": ".py",
   "mimetype": "text/x-python",
   "name": "python",
   "nbconvert_exporter": "python",
   "pygments_lexer": "ipython3",
   "version": "3.8.5"
  }
 },
 "nbformat": 4,
 "nbformat_minor": 4
}
